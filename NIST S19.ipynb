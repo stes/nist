{
 "cells": [
  {
   "cell_type": "code",
   "execution_count": 1,
   "metadata": {
    "collapsed": true
   },
   "outputs": [],
   "source": [
    "from skimage import io\n",
    "import os\n",
    "import numpy as np\n",
    "import h5py\n",
    "\n",
    "%matplotlib inline"
   ]
  },
  {
   "cell_type": "markdown",
   "metadata": {},
   "source": [
    "# Loading and Processing the NIST dataset\n",
    "\n",
    "We use the [by_class](https://s3.amazonaws.com/nist-srd/SD19/by_class.zip) dataset provided by https://www.nist.gov/srd/nist-special-database-19."
   ]
  },
  {
   "cell_type": "code",
   "execution_count": 1,
   "metadata": {
    "collapsed": true
   },
   "outputs": [],
   "source": [
    "# Uncomment and execture for downloading & extraction\n",
    "\n",
    "# ! wget https://s3.amazonaws.com/nist-srd/SD19/by_class.zip\n",
    "# unzip by_class.zip"
   ]
  },
  {
   "cell_type": "code",
   "execution_count": 2,
   "metadata": {},
   "outputs": [
    {
     "data": {
      "text/plain": [
       "'by_class/30/train_30'"
      ]
     },
     "execution_count": 2,
     "metadata": {},
     "output_type": "execute_result"
    }
   ],
   "source": [
    "root = \"by_class\"\n",
    "\n",
    "pattern = \"{root}/{lbl}/train_{lbl}\"\n",
    "\n",
    "pattern.format(root=root, lbl = 30)"
   ]
  },
  {
   "cell_type": "code",
   "execution_count": 36,
   "metadata": {},
   "outputs": [
    {
     "name": "stdout",
     "output_type": "stream",
     "text": [
      "Found 62 different characters\n",
      "Loading 10203 files for label F\n",
      "Loading 2473 files for label K\n",
      "Loading 2854 files for label v\n",
      "Loading 20793 files for label t\n",
      "Loading 34079 files for label 6\n",
      "Loading 2731 files for label X\n",
      "Loading 9713 files for label h\n",
      "Loading 33884 files for label 8\n",
      "Loading 2634 files for label m\n",
      "Loading 2562 files for label k\n",
      "Loading 11196 files for label a\n",
      "Loading 4951 files for label V\n",
      "Loading 38049 files for label 1\n",
      "Loading 2493 files for label f\n",
      "Loading 33432 files for label 4\n",
      "Loading 31067 files for label 5\n",
      "Loading 4945 files for label D\n",
      "Loading 1920 files for label j\n",
      "Loading 35293 files for label 3\n",
      "Loading 14146 files for label U\n",
      "Loading 2698 files for label Z\n",
      "Loading 5420 files for label E\n",
      "Loading 2837 files for label u\n",
      "Loading 2820 files for label x\n",
      "Loading 11421 files for label d\n",
      "Loading 2726 files for label z\n",
      "Loading 2359 files for label y\n",
      "Loading 3962 files for label J\n",
      "Loading 11315 files for label C\n",
      "Loading 5026 files for label W\n",
      "Loading 5551 files for label b\n",
      "Loading 3271 files for label H\n",
      "Loading 2566 files for label Q\n",
      "Loading 12856 files for label n\n",
      "Loading 2575 files for label G\n",
      "Loading 2401 files for label p\n",
      "Loading 28680 files for label O\n",
      "Loading 2761 files for label o\n",
      "Loading 2698 files for label s\n",
      "Loading 34803 files for label 0\n",
      "Loading 9149 files for label N\n",
      "Loading 2792 files for label c\n",
      "Loading 9277 files for label P\n",
      "Loading 35796 files for label 7\n",
      "Loading 10927 files for label T\n",
      "Loading 16937 files for label l\n",
      "Loading 13179 files for label I\n",
      "Loading 33720 files for label 9\n",
      "Loading 28299 files for label e\n",
      "Loading 34184 files for label 2\n",
      "Loading 4091 files for label B\n",
      "Loading 5436 files for label R\n",
      "Loading 2699 files for label w\n",
      "Loading 3839 files for label g\n",
      "Loading 2788 files for label i\n",
      "Loading 15934 files for label r\n",
      "Loading 10027 files for label M\n",
      "Loading 5390 files for label L\n",
      "Loading 5088 files for label Y\n",
      "Loading 23827 files for label S\n",
      "Loading 7010 files for label A\n",
      "Loading 3115 files for label q\n"
     ]
    }
   ],
   "source": [
    "lbls = os.listdir(root)\n",
    "\n",
    "print(\"Found {} different characters\".format(len(lbls)))\n",
    "\n",
    "with h5py.File(\"nist_train.hdf5\", \"w\") as ds:\n",
    "    \n",
    "    for lbl in lbls:\n",
    "        \n",
    "        directory = pattern.format(root=root, lbl = lbl)\n",
    "        files = os.listdir(directory)\n",
    "\n",
    "        lbl = chr(int(lbl, 16))\n",
    "        \n",
    "        X = ds.require_dataset(lbl, shape=(len(files),128,128), dtype=\"uint8\", compression=\"gzip\", compression_opts=4)\n",
    "\n",
    "        print(\"Loading {} files for label {}\".format(len(files), lbl))\n",
    "\n",
    "        xx = []\n",
    "        for i, f in enumerate(files):\n",
    "            xx.append(io.imread(os.path.join(directory, f))[...,0])\n",
    "            \n",
    "        X[:] = np.stack(xx, axis=0)"
   ]
  }
 ],
 "metadata": {
  "kernelspec": {
   "display_name": "lasagne",
   "language": "python",
   "name": "python3"
  },
  "language_info": {
   "codemirror_mode": {
    "name": "ipython",
    "version": 3
   },
   "file_extension": ".py",
   "mimetype": "text/x-python",
   "name": "python",
   "nbconvert_exporter": "python",
   "pygments_lexer": "ipython3",
   "version": "3.6.4"
  }
 },
 "nbformat": 4,
 "nbformat_minor": 1
}
